{
 "cells": [
  {
   "cell_type": "code",
   "execution_count": 2,
   "outputs": [],
   "source": [
    "from textblob import TextBlob\n",
    "import os\n",
    "import pandas as pd\n",
    "import requests\n",
    "import validators"
   ],
   "metadata": {
    "collapsed": false,
    "ExecuteTime": {
     "start_time": "2023-05-11T18:03:19.403657Z",
     "end_time": "2023-05-11T18:05:12.472801Z"
    }
   }
  },
  {
   "cell_type": "code",
   "execution_count": 3,
   "outputs": [],
   "source": [
    "def analyze_grant_description(description):\n",
    "    \"\"\"\n",
    "    Analyze the given grant project description to determine its subjectivity and polarity.\n",
    "\n",
    "    Args:\n",
    "    description (str): The grant project description.\n",
    "\n",
    "    Returns:\n",
    "    tuple: A tuple containing the polarity and subjectivity scores.\n",
    "    \"\"\"\n",
    "    blob = TextBlob(description)\n",
    "    polarity = blob.sentiment.polarity\n",
    "    subjectivity = blob.sentiment.subjectivity\n",
    "\n",
    "    return polarity, subjectivity"
   ],
   "metadata": {
    "collapsed": false,
    "ExecuteTime": {
     "start_time": "2023-05-11T18:07:56.235593Z",
     "end_time": "2023-05-11T18:07:56.255557Z"
    }
   }
  },
  {
   "cell_type": "code",
   "execution_count": 4,
   "outputs": [],
   "source": [
    "data = pd.read_csv('All Allo(Beta) projects.txt')"
   ],
   "metadata": {
    "collapsed": false,
    "ExecuteTime": {
     "start_time": "2023-05-11T18:08:11.928921Z",
     "end_time": "2023-05-11T18:08:12.663476Z"
    }
   }
  },
  {
   "cell_type": "code",
   "execution_count": 5,
   "outputs": [],
   "source": [
    "first_ten_cols = data.iloc[:, :10]"
   ],
   "metadata": {
    "collapsed": false,
    "ExecuteTime": {
     "start_time": "2023-05-11T18:08:19.532310Z",
     "end_time": "2023-05-11T18:08:19.570214Z"
    }
   }
  },
  {
   "cell_type": "code",
   "execution_count": 6,
   "outputs": [
    {
     "data": {
      "text/plain": "                                                  id  projectNumber  \\\n0  0x6ec5ee60255a3593d5b35b46f53b02adef97afb5ecf9...              0   \n1  0xa0affa31521afe084aee15c3ff5570c600b014cae2a9...              1   \n2  0x5d8c43ef40b6294bee31db1875e1a4535775044899dd...              2   \n\n                                             metaPtr  \\\n0  bafkreicj2mfcotvh4tcg2yxivox3udf3nn2ac73jx4unt...   \n1  bafkreici2x2ttp2ln2x2gagkooq3i4q3npvdbl3d6aevi...   \n2  bafkreibuxaoktceabvxug76wqv7jxcxrmlxgfent3cdsd...   \n\n                                           owners  \\\n0  ['0xA4ca1b15fE81F57cb2d3f686c7B13309906cd37B']   \n1  ['0x6faaD3C23Ba7F04db0b54B87C185cE4fb2676B60']   \n2  ['0xc2E2B715d9e302947Ec7e312fd2384b5a1296099']   \n\n                 metadata.title  \\\n0                         Pharo   \n1                   CryptoStats   \n2  Gitcoin Grants Matching Pool   \n\n                                metadata.description  \\\n0  A web3 automated market maker for wisdom of cr...   \n1  One neutral source of truth for crypto metrics...   \n2  This is the official matching pool fund for al...   \n\n                 metadata.website           metadata.projectTwitter  \\\n0              https://pharo.tech                          PharoACM   \n1  https://cryptostats.community/  https://twitter.com/CryptoStats_   \n2              https://gitcoin.co                           gitcoin   \n\n  metadata.userGithub metadata.projectGithub  \n0       codenamejason               PharoACM  \n1                 NaN                    NaN  \n2              kweiss              gitcoinco  ",
      "text/html": "<div>\n<style scoped>\n    .dataframe tbody tr th:only-of-type {\n        vertical-align: middle;\n    }\n\n    .dataframe tbody tr th {\n        vertical-align: top;\n    }\n\n    .dataframe thead th {\n        text-align: right;\n    }\n</style>\n<table border=\"1\" class=\"dataframe\">\n  <thead>\n    <tr style=\"text-align: right;\">\n      <th></th>\n      <th>id</th>\n      <th>projectNumber</th>\n      <th>metaPtr</th>\n      <th>owners</th>\n      <th>metadata.title</th>\n      <th>metadata.description</th>\n      <th>metadata.website</th>\n      <th>metadata.projectTwitter</th>\n      <th>metadata.userGithub</th>\n      <th>metadata.projectGithub</th>\n    </tr>\n  </thead>\n  <tbody>\n    <tr>\n      <th>0</th>\n      <td>0x6ec5ee60255a3593d5b35b46f53b02adef97afb5ecf9...</td>\n      <td>0</td>\n      <td>bafkreicj2mfcotvh4tcg2yxivox3udf3nn2ac73jx4unt...</td>\n      <td>['0xA4ca1b15fE81F57cb2d3f686c7B13309906cd37B']</td>\n      <td>Pharo</td>\n      <td>A web3 automated market maker for wisdom of cr...</td>\n      <td>https://pharo.tech</td>\n      <td>PharoACM</td>\n      <td>codenamejason</td>\n      <td>PharoACM</td>\n    </tr>\n    <tr>\n      <th>1</th>\n      <td>0xa0affa31521afe084aee15c3ff5570c600b014cae2a9...</td>\n      <td>1</td>\n      <td>bafkreici2x2ttp2ln2x2gagkooq3i4q3npvdbl3d6aevi...</td>\n      <td>['0x6faaD3C23Ba7F04db0b54B87C185cE4fb2676B60']</td>\n      <td>CryptoStats</td>\n      <td>One neutral source of truth for crypto metrics...</td>\n      <td>https://cryptostats.community/</td>\n      <td>https://twitter.com/CryptoStats_</td>\n      <td>NaN</td>\n      <td>NaN</td>\n    </tr>\n    <tr>\n      <th>2</th>\n      <td>0x5d8c43ef40b6294bee31db1875e1a4535775044899dd...</td>\n      <td>2</td>\n      <td>bafkreibuxaoktceabvxug76wqv7jxcxrmlxgfent3cdsd...</td>\n      <td>['0xc2E2B715d9e302947Ec7e312fd2384b5a1296099']</td>\n      <td>Gitcoin Grants Matching Pool</td>\n      <td>This is the official matching pool fund for al...</td>\n      <td>https://gitcoin.co</td>\n      <td>gitcoin</td>\n      <td>kweiss</td>\n      <td>gitcoinco</td>\n    </tr>\n  </tbody>\n</table>\n</div>"
     },
     "execution_count": 6,
     "metadata": {},
     "output_type": "execute_result"
    }
   ],
   "source": [
    "first_ten_cols.head(3)"
   ],
   "metadata": {
    "collapsed": false,
    "ExecuteTime": {
     "start_time": "2023-05-11T18:08:28.405023Z",
     "end_time": "2023-05-11T18:08:28.879829Z"
    }
   }
  },
  {
   "cell_type": "code",
   "execution_count": 7,
   "outputs": [],
   "source": [
    "first_ten_cols = first_ten_cols.rename(columns={'metadata.description':'description'})"
   ],
   "metadata": {
    "collapsed": false,
    "ExecuteTime": {
     "start_time": "2023-05-11T18:08:37.906910Z",
     "end_time": "2023-05-11T18:08:38.345765Z"
    }
   }
  },
  {
   "cell_type": "code",
   "execution_count": 8,
   "outputs": [
    {
     "data": {
      "text/plain": "                                                  id  projectNumber  \\\n0  0x6ec5ee60255a3593d5b35b46f53b02adef97afb5ecf9...              0   \n1  0xa0affa31521afe084aee15c3ff5570c600b014cae2a9...              1   \n2  0x5d8c43ef40b6294bee31db1875e1a4535775044899dd...              2   \n3  0x128a79c5f52d33bc49f5677dd0fcd695e44f22916b92...              3   \n4  0x6d6e8fc20ac24fdb4b3efea919528f41eb0261a65c30...              4   \n5  0xf322b3e0289c0311be5e94db88021b82286fef6b18b4...              5   \n6  0x0718e3d08633de4d7d2a6cf71e13f79507ba19f43895...              6   \n7  0xf944d9fca398a4cb7f4d9b237049ad807d20f9151c25...              7   \n8  0xa8570318dc5eb4618cb030b0f06ea912302efedecf23...              8   \n9  0x19ace9f9a5f68b506c591e15a02206227c90c030e8b7...              9   \n\n                                             metaPtr  \\\n0  bafkreicj2mfcotvh4tcg2yxivox3udf3nn2ac73jx4unt...   \n1  bafkreici2x2ttp2ln2x2gagkooq3i4q3npvdbl3d6aevi...   \n2  bafkreibuxaoktceabvxug76wqv7jxcxrmlxgfent3cdsd...   \n3  bafkreih2o2iyhnuo54fwglpi5vqd5zwlzcsoavfgaqqqj...   \n4  bafkreibopxik34xkruefa7yliw3icifwjv56xio327htt...   \n5  bafkreihhxl3ccmt2pqae3p2vrm4galnycknk3kaijzucl...   \n6  bafkreic2c2bjqcxeopfored4etccph6kjwrgkvj2ouqfb...   \n7  bafkreihz53ndtngdnfaowxwkbww7zfjvps3m52m3qwqiq...   \n8  bafkreibxjm5pxg65hmfclh6l2juopcvbsreditujsroj2...   \n9  bafkreifsvpps346tjdfcl4hozhc6xsxfkuksydqejdig3...   \n\n                                           owners  \\\n0  ['0xA4ca1b15fE81F57cb2d3f686c7B13309906cd37B']   \n1  ['0x6faaD3C23Ba7F04db0b54B87C185cE4fb2676B60']   \n2  ['0xc2E2B715d9e302947Ec7e312fd2384b5a1296099']   \n3  ['0x112E372bb5EC17c1ea6b1d679EA72aFBD2A94404']   \n4  ['0xE559e959b891b14eB5A9DdE45C61b1aEb0b6DF4B']   \n5  ['0xA4ca1b15fE81F57cb2d3f686c7B13309906cd37B']   \n6  ['0x06Fd1a0356A1e58852721331A3aEd1b7ebE214ed']   \n7  ['0x4c6Ec2448C243B39Cd1e9E6db0F9bF7436c0c93f']   \n8  ['0x81c776d0D7F7d9D3699851993EcAa88A46187F11']   \n9  ['0x6078c8eeB7ED8916A8f1e85dc8F6E780C09a89fF']   \n\n                                      metadata.title  \\\n0                                              Pharo   \n1                                        CryptoStats   \n2                       Gitcoin Grants Matching Pool   \n3                                           Chaineye   \n4  Empowering communities and young generation wi...   \n5                                         Talent DAO   \n6  StaTwig Supply Chain Visibility for Life Savin...   \n7                                           Play Art   \n8                                   Treejer Protocol   \n9  Somleng - A full-stack cloud communications pl...   \n\n                                         description  \\\n0  A web3 automated market maker for wisdom of cr...   \n1  One neutral source of truth for crypto metrics...   \n2  This is the official matching pool fund for al...   \n3  ChainEye aims to build the world leading free ...   \n4  CRYTO AWARENESS & EDUCATION\\n To reach mass-sc...   \n5                            Where talent is sourced   \n6  StaTwig, a blockchain powered Supply Chain Vis...   \n7  Play Art is a decentralized ART and NFT creati...   \n8  Treejer is an open protocol connecting donors ...   \n9  Somleng is a collection of open source tools w...   \n\n                 metadata.website           metadata.projectTwitter  \\\n0              https://pharo.tech                          PharoACM   \n1  https://cryptostats.community/  https://twitter.com/CryptoStats_   \n2              https://gitcoin.co                           gitcoin   \n3          https://Chaineye.tools                          biteyecn   \n4      https://ayoweccauganda.org                               NaN   \n5           https://talentdao.com                               NaN   \n6             https://statwig.com                           StaTwig   \n7      https://playart.vercel.app                               NaN   \n8             https://treejer.com                      TreejerTalks   \n9         https://www.somleng.org                    SomlengProject   \n\n       metadata.userGithub                             metadata.projectGithub  \n0            codenamejason                                           PharoACM  \n1                      NaN                                                NaN  \n2                   kweiss                                          gitcoinco  \n3                DeFiTeddy                                            DeFiEye  \n4                      NaN                                                NaN  \n5            codenamejason                                          TalentDAO  \n6                      NaN  https://github.com/StaTwig/admin/tree/development  \n7               praise-eze                                                NaN  \n8                    ermio                                            treejer  \n9  somleng/somleng-project                                            somleng  ",
      "text/html": "<div>\n<style scoped>\n    .dataframe tbody tr th:only-of-type {\n        vertical-align: middle;\n    }\n\n    .dataframe tbody tr th {\n        vertical-align: top;\n    }\n\n    .dataframe thead th {\n        text-align: right;\n    }\n</style>\n<table border=\"1\" class=\"dataframe\">\n  <thead>\n    <tr style=\"text-align: right;\">\n      <th></th>\n      <th>id</th>\n      <th>projectNumber</th>\n      <th>metaPtr</th>\n      <th>owners</th>\n      <th>metadata.title</th>\n      <th>description</th>\n      <th>metadata.website</th>\n      <th>metadata.projectTwitter</th>\n      <th>metadata.userGithub</th>\n      <th>metadata.projectGithub</th>\n    </tr>\n  </thead>\n  <tbody>\n    <tr>\n      <th>0</th>\n      <td>0x6ec5ee60255a3593d5b35b46f53b02adef97afb5ecf9...</td>\n      <td>0</td>\n      <td>bafkreicj2mfcotvh4tcg2yxivox3udf3nn2ac73jx4unt...</td>\n      <td>['0xA4ca1b15fE81F57cb2d3f686c7B13309906cd37B']</td>\n      <td>Pharo</td>\n      <td>A web3 automated market maker for wisdom of cr...</td>\n      <td>https://pharo.tech</td>\n      <td>PharoACM</td>\n      <td>codenamejason</td>\n      <td>PharoACM</td>\n    </tr>\n    <tr>\n      <th>1</th>\n      <td>0xa0affa31521afe084aee15c3ff5570c600b014cae2a9...</td>\n      <td>1</td>\n      <td>bafkreici2x2ttp2ln2x2gagkooq3i4q3npvdbl3d6aevi...</td>\n      <td>['0x6faaD3C23Ba7F04db0b54B87C185cE4fb2676B60']</td>\n      <td>CryptoStats</td>\n      <td>One neutral source of truth for crypto metrics...</td>\n      <td>https://cryptostats.community/</td>\n      <td>https://twitter.com/CryptoStats_</td>\n      <td>NaN</td>\n      <td>NaN</td>\n    </tr>\n    <tr>\n      <th>2</th>\n      <td>0x5d8c43ef40b6294bee31db1875e1a4535775044899dd...</td>\n      <td>2</td>\n      <td>bafkreibuxaoktceabvxug76wqv7jxcxrmlxgfent3cdsd...</td>\n      <td>['0xc2E2B715d9e302947Ec7e312fd2384b5a1296099']</td>\n      <td>Gitcoin Grants Matching Pool</td>\n      <td>This is the official matching pool fund for al...</td>\n      <td>https://gitcoin.co</td>\n      <td>gitcoin</td>\n      <td>kweiss</td>\n      <td>gitcoinco</td>\n    </tr>\n    <tr>\n      <th>3</th>\n      <td>0x128a79c5f52d33bc49f5677dd0fcd695e44f22916b92...</td>\n      <td>3</td>\n      <td>bafkreih2o2iyhnuo54fwglpi5vqd5zwlzcsoavfgaqqqj...</td>\n      <td>['0x112E372bb5EC17c1ea6b1d679EA72aFBD2A94404']</td>\n      <td>Chaineye</td>\n      <td>ChainEye aims to build the world leading free ...</td>\n      <td>https://Chaineye.tools</td>\n      <td>biteyecn</td>\n      <td>DeFiTeddy</td>\n      <td>DeFiEye</td>\n    </tr>\n    <tr>\n      <th>4</th>\n      <td>0x6d6e8fc20ac24fdb4b3efea919528f41eb0261a65c30...</td>\n      <td>4</td>\n      <td>bafkreibopxik34xkruefa7yliw3icifwjv56xio327htt...</td>\n      <td>['0xE559e959b891b14eB5A9DdE45C61b1aEb0b6DF4B']</td>\n      <td>Empowering communities and young generation wi...</td>\n      <td>CRYTO AWARENESS &amp; EDUCATION\\n To reach mass-sc...</td>\n      <td>https://ayoweccauganda.org</td>\n      <td>NaN</td>\n      <td>NaN</td>\n      <td>NaN</td>\n    </tr>\n    <tr>\n      <th>5</th>\n      <td>0xf322b3e0289c0311be5e94db88021b82286fef6b18b4...</td>\n      <td>5</td>\n      <td>bafkreihhxl3ccmt2pqae3p2vrm4galnycknk3kaijzucl...</td>\n      <td>['0xA4ca1b15fE81F57cb2d3f686c7B13309906cd37B']</td>\n      <td>Talent DAO</td>\n      <td>Where talent is sourced</td>\n      <td>https://talentdao.com</td>\n      <td>NaN</td>\n      <td>codenamejason</td>\n      <td>TalentDAO</td>\n    </tr>\n    <tr>\n      <th>6</th>\n      <td>0x0718e3d08633de4d7d2a6cf71e13f79507ba19f43895...</td>\n      <td>6</td>\n      <td>bafkreic2c2bjqcxeopfored4etccph6kjwrgkvj2ouqfb...</td>\n      <td>['0x06Fd1a0356A1e58852721331A3aEd1b7ebE214ed']</td>\n      <td>StaTwig Supply Chain Visibility for Life Savin...</td>\n      <td>StaTwig, a blockchain powered Supply Chain Vis...</td>\n      <td>https://statwig.com</td>\n      <td>StaTwig</td>\n      <td>NaN</td>\n      <td>https://github.com/StaTwig/admin/tree/development</td>\n    </tr>\n    <tr>\n      <th>7</th>\n      <td>0xf944d9fca398a4cb7f4d9b237049ad807d20f9151c25...</td>\n      <td>7</td>\n      <td>bafkreihz53ndtngdnfaowxwkbww7zfjvps3m52m3qwqiq...</td>\n      <td>['0x4c6Ec2448C243B39Cd1e9E6db0F9bF7436c0c93f']</td>\n      <td>Play Art</td>\n      <td>Play Art is a decentralized ART and NFT creati...</td>\n      <td>https://playart.vercel.app</td>\n      <td>NaN</td>\n      <td>praise-eze</td>\n      <td>NaN</td>\n    </tr>\n    <tr>\n      <th>8</th>\n      <td>0xa8570318dc5eb4618cb030b0f06ea912302efedecf23...</td>\n      <td>8</td>\n      <td>bafkreibxjm5pxg65hmfclh6l2juopcvbsreditujsroj2...</td>\n      <td>['0x81c776d0D7F7d9D3699851993EcAa88A46187F11']</td>\n      <td>Treejer Protocol</td>\n      <td>Treejer is an open protocol connecting donors ...</td>\n      <td>https://treejer.com</td>\n      <td>TreejerTalks</td>\n      <td>ermio</td>\n      <td>treejer</td>\n    </tr>\n    <tr>\n      <th>9</th>\n      <td>0x19ace9f9a5f68b506c591e15a02206227c90c030e8b7...</td>\n      <td>9</td>\n      <td>bafkreifsvpps346tjdfcl4hozhc6xsxfkuksydqejdig3...</td>\n      <td>['0x6078c8eeB7ED8916A8f1e85dc8F6E780C09a89fF']</td>\n      <td>Somleng - A full-stack cloud communications pl...</td>\n      <td>Somleng is a collection of open source tools w...</td>\n      <td>https://www.somleng.org</td>\n      <td>SomlengProject</td>\n      <td>somleng/somleng-project</td>\n      <td>somleng</td>\n    </tr>\n  </tbody>\n</table>\n</div>"
     },
     "execution_count": 8,
     "metadata": {},
     "output_type": "execute_result"
    }
   ],
   "source": [
    "first_ten_cols.head(10)\n"
   ],
   "metadata": {
    "collapsed": false,
    "ExecuteTime": {
     "start_time": "2023-05-11T18:08:48.690672Z",
     "end_time": "2023-05-11T18:08:51.115101Z"
    }
   }
  },
  {
   "cell_type": "code",
   "execution_count": 10,
   "outputs": [],
   "source": [
    "# changing the data type\n",
    "first_ten_cols['description'] = first_ten_cols['description'].astype(str)\n"
   ],
   "metadata": {
    "collapsed": false,
    "ExecuteTime": {
     "start_time": "2023-05-11T18:15:13.537393Z",
     "end_time": "2023-05-11T18:15:13.550466Z"
    }
   }
  },
  {
   "cell_type": "code",
   "execution_count": 11,
   "outputs": [],
   "source": [
    "result = []\n",
    "for i in first_ten_cols['description']:\n",
    "    result.append(analyze_grant_description(i))"
   ],
   "metadata": {
    "collapsed": false,
    "ExecuteTime": {
     "start_time": "2023-05-11T18:15:15.904908Z",
     "end_time": "2023-05-11T18:15:23.710429Z"
    }
   }
  },
  {
   "cell_type": "code",
   "execution_count": 12,
   "outputs": [],
   "source": [
    "first_ten_cols['description'] = result"
   ],
   "metadata": {
    "collapsed": false,
    "ExecuteTime": {
     "start_time": "2023-05-11T18:15:46.074824Z",
     "end_time": "2023-05-11T18:15:46.097759Z"
    }
   }
  },
  {
   "cell_type": "code",
   "execution_count": 20,
   "outputs": [
    {
     "data": {
      "text/plain": "                                    description\n0                                    (0.0, 0.0)\n1                                    (0.0, 0.0)\n2                                    (0.0, 0.0)\n3     (0.19047619047619047, 0.4801587301587302)\n4    (0.11790123456790125, 0.33514109347442683)\n..                                          ...\n631                                  (0.0, 0.0)\n632  (0.06753555967841682, 0.39125850340136054)\n633                                  (0.0, 0.0)\n634               (0.19125, 0.4895833333333332)\n635                                  (0.0, 0.0)\n\n[636 rows x 1 columns]",
      "text/html": "<div>\n<style scoped>\n    .dataframe tbody tr th:only-of-type {\n        vertical-align: middle;\n    }\n\n    .dataframe tbody tr th {\n        vertical-align: top;\n    }\n\n    .dataframe thead th {\n        text-align: right;\n    }\n</style>\n<table border=\"1\" class=\"dataframe\">\n  <thead>\n    <tr style=\"text-align: right;\">\n      <th></th>\n      <th>description</th>\n    </tr>\n  </thead>\n  <tbody>\n    <tr>\n      <th>0</th>\n      <td>(0.0, 0.0)</td>\n    </tr>\n    <tr>\n      <th>1</th>\n      <td>(0.0, 0.0)</td>\n    </tr>\n    <tr>\n      <th>2</th>\n      <td>(0.0, 0.0)</td>\n    </tr>\n    <tr>\n      <th>3</th>\n      <td>(0.19047619047619047, 0.4801587301587302)</td>\n    </tr>\n    <tr>\n      <th>4</th>\n      <td>(0.11790123456790125, 0.33514109347442683)</td>\n    </tr>\n    <tr>\n      <th>...</th>\n      <td>...</td>\n    </tr>\n    <tr>\n      <th>631</th>\n      <td>(0.0, 0.0)</td>\n    </tr>\n    <tr>\n      <th>632</th>\n      <td>(0.06753555967841682, 0.39125850340136054)</td>\n    </tr>\n    <tr>\n      <th>633</th>\n      <td>(0.0, 0.0)</td>\n    </tr>\n    <tr>\n      <th>634</th>\n      <td>(0.19125, 0.4895833333333332)</td>\n    </tr>\n    <tr>\n      <th>635</th>\n      <td>(0.0, 0.0)</td>\n    </tr>\n  </tbody>\n</table>\n<p>636 rows × 1 columns</p>\n</div>"
     },
     "execution_count": 20,
     "metadata": {},
     "output_type": "execute_result"
    }
   ],
   "source": [
    "first_ten_cols[['description']]"
   ],
   "metadata": {
    "collapsed": false,
    "ExecuteTime": {
     "start_time": "2023-05-11T18:37:45.603159Z",
     "end_time": "2023-05-11T18:37:45.633482Z"
    }
   }
  },
  {
   "cell_type": "code",
   "execution_count": null,
   "outputs": [],
   "source": [],
   "metadata": {
    "collapsed": false
   }
  }
 ],
 "metadata": {
  "kernelspec": {
   "display_name": "Python 3",
   "language": "python",
   "name": "python3"
  },
  "language_info": {
   "codemirror_mode": {
    "name": "ipython",
    "version": 2
   },
   "file_extension": ".py",
   "mimetype": "text/x-python",
   "name": "python",
   "nbconvert_exporter": "python",
   "pygments_lexer": "ipython2",
   "version": "2.7.6"
  }
 },
 "nbformat": 4,
 "nbformat_minor": 0
}
